{
  "nbformat": 4,
  "nbformat_minor": 0,
  "metadata": {
    "colab": {
      "provenance": []
    },
    "kernelspec": {
      "name": "python3",
      "display_name": "Python 3"
    },
    "language_info": {
      "name": "python"
    }
  },
  "cells": [
    {
      "cell_type": "markdown",
      "source": [
        "# 睡眠与健康关系研究"
      ],
      "metadata": {
        "id": "2Fgk1JS0Up63"
      }
    },
    {
      "cell_type": "markdown",
      "source": [
        "## 简介\n",
        "本研究基于回归森林模型，分析了影响睡眠质量的关键因素及其重要性排序，旨在为改善睡眠提供科学依据。模型结果显示，压力水平（重要性分数0.1943）是睡眠质量的最强预测因子，其次是年龄、心率、身体活动水平和每日步数。根据这些发现，研究提出了针对不同影响因素的个性化干预策略，涵盖压力管理、年龄分层干预、心血管健康优化、科学运动方案及行为调整等方面。\n",
        "\n"
      ],
      "metadata": {
        "id": "Z5gkaWNdGirT"
      }
    },
    {
      "cell_type": "markdown",
      "source": [
        "## 项目过程\n",
        "1. 数据建模：\n",
        "\n",
        " - 采用回归森林模型量化各因素对睡眠质量的影响权重，重要性排序为：压力水平 > 年龄 > 心率 > 身体活动水平 > 每日步数。\n",
        "\n",
        "2. 关键发现解读：\n",
        "\n",
        " - 压力水平：高压力直接导致入睡困难和睡眠碎片化。\n",
        "\n",
        " - 年龄：不同年龄段睡眠问题差异显著（如年轻人熬夜、老年人深睡眠减少）。\n",
        "\n",
        " - 心率和活动水平：静息心率过高和运动不足与睡眠质量负相关。\n",
        "\n",
        "3. 策略设计：\n",
        "\n",
        " - 结合预测因子的重要性分数，制定分层次、分人群的干预方案，并设定可量化的监测指标（如压力量表得分、深睡眠时长等）。"
      ],
      "metadata": {
        "id": "_rSwgQBYGmgU"
      }
    },
    {
      "cell_type": "markdown",
      "source": [
        "## 项目成果与策略建议\n",
        "核心成果\n",
        "- 明确压力管理为睡眠改善的首要干预目标（贡献度19.43%），年龄因素次之（14.77%）。\n",
        "\n",
        "- 提出多维度解决方案，涵盖心理干预（冥想、心理咨询）、生理调节（运动、呼吸训练）、环境优化（卧室温度、光照）及行为习惯调整（步数激励、咖啡因控制）。\n",
        "\n",
        "| 影响因素       | 优先级 | 关键干预措施                                                                 | 监测指标                          |\n",
        "|----------------|--------|------------------------------------------------------------------------------|-----------------------------------|\n",
        "| **压力水平**   | 最高   | 正念冥想APP、职场压力课程、卧室环境优化（温度18-22℃）                       | PSS-10量表、心率变异性（HRV）     |\n",
        "| **年龄分层**   | 高     | 年轻人：咖啡因控制；中年人：镁剂补充；老年人：限制午睡+日光照射              | 深睡眠比例（手环数据）            |\n",
        "| **心率**       | 中     | 有氧运动（每周150分钟）、4-7-8呼吸法                                         | 晨起静息心率、夜间平均心率        |\n",
        "| **身体活动水平** | 中低   | 优选瑜伽/太极、避免睡前6小时高强度运动                                       | 睡眠潜伏期、深睡眠增幅            |\n",
        "| **每日步数**   | 低     | 站立会议、家庭集体散步、步数排行榜激励                                       | 步数与睡眠效率相关性              |\n",
        "\n",
        "实施重点\n",
        "- 精准分层：针对不同年龄、职业人群设计差异化方案（如IT从业者优先压力管理）。\n",
        "\n",
        "- 技术整合：利用可穿戴设备（如手环）实时监测心率、步数和睡眠分期数据。\n",
        "\n",
        "- 行为可持续性：通过社交激励（步行小组）和渐进式目标（步数递增）提升长期依从性。\n",
        "\n",
        "**结论：**该研究通过数据驱动的方法，为睡眠质量改善提供了系统性策略，优先解决高影响力因素（如压力），同时兼顾个体差异，可实现更高效的睡眠健康管理。"
      ],
      "metadata": {
        "id": "n_9Jrv4iG8u7"
      }
    },
    {
      "cell_type": "markdown",
      "source": [
        "## 第一步：探索数据"
      ],
      "metadata": {
        "id": "uwgHCdKyUvZT"
      }
    },
    {
      "cell_type": "markdown",
      "source": [
        "### 1. 导入Python的`pandas`和`numpy`库"
      ],
      "metadata": {
        "id": "06wGoN44U0wN"
      }
    },
    {
      "cell_type": "code",
      "execution_count": 1,
      "metadata": {
        "id": "VBo4Ka99Tak1"
      },
      "outputs": [],
      "source": [
        "import pandas as pd\n",
        "import numpy as np"
      ]
    },
    {
      "cell_type": "markdown",
      "source": [
        "### 2. 加载数据集"
      ],
      "metadata": {
        "id": "aOqh3YuNVR7o"
      }
    },
    {
      "cell_type": "code",
      "source": [
        "sleep_data = pd.read_csv('Sleep_health_and_lifestyle_dataset.csv', on_bad_lines='skip')"
      ],
      "metadata": {
        "id": "IsELAIwiVT5s"
      },
      "execution_count": 2,
      "outputs": []
    },
    {
      "cell_type": "markdown",
      "source": [
        "### 3. 预览数据前5行"
      ],
      "metadata": {
        "id": "lPjE5Lr7VowT"
      }
    },
    {
      "cell_type": "code",
      "source": [
        "sleep_data.head()"
      ],
      "metadata": {
        "colab": {
          "base_uri": "https://localhost:8080/",
          "height": 293
        },
        "id": "gLKOaxBGVpjA",
        "outputId": "1d5b48d4-2263-4bc8-8268-a2782451b7b5"
      },
      "execution_count": 3,
      "outputs": [
        {
          "output_type": "execute_result",
          "data": {
            "text/plain": [
              "   Person ID Gender  Age            Occupation  Sleep Duration  \\\n",
              "0          1   Male   27     Software Engineer             6.1   \n",
              "1          2   Male   28                Doctor             6.2   \n",
              "2          3   Male   28                Doctor             6.2   \n",
              "3          4   Male   28  Sales Representative             5.9   \n",
              "4          5   Male   28  Sales Representative             5.9   \n",
              "\n",
              "   Quality of Sleep  Physical Activity Level  Stress Level BMI Category  \\\n",
              "0                 6                       42             6   Overweight   \n",
              "1                 6                       60             8       Normal   \n",
              "2                 6                       60             8       Normal   \n",
              "3                 4                       30             8        Obese   \n",
              "4                 4                       30             8        Obese   \n",
              "\n",
              "   Systolic BP  Diastolic BP  Heart Rate  Daily Steps Sleep Disorder  \n",
              "0          126            83          77         4200            NaN  \n",
              "1          125            80          75        10000            NaN  \n",
              "2          125            80          75        10000            NaN  \n",
              "3          140            90          85         3000    Sleep Apnea  \n",
              "4          140            90          85         3000    Sleep Apnea  "
            ],
            "text/html": [
              "\n",
              "  <div id=\"df-8b820fa3-69f6-4d04-a614-5b6753bcd2ee\" class=\"colab-df-container\">\n",
              "    <div>\n",
              "<style scoped>\n",
              "    .dataframe tbody tr th:only-of-type {\n",
              "        vertical-align: middle;\n",
              "    }\n",
              "\n",
              "    .dataframe tbody tr th {\n",
              "        vertical-align: top;\n",
              "    }\n",
              "\n",
              "    .dataframe thead th {\n",
              "        text-align: right;\n",
              "    }\n",
              "</style>\n",
              "<table border=\"1\" class=\"dataframe\">\n",
              "  <thead>\n",
              "    <tr style=\"text-align: right;\">\n",
              "      <th></th>\n",
              "      <th>Person ID</th>\n",
              "      <th>Gender</th>\n",
              "      <th>Age</th>\n",
              "      <th>Occupation</th>\n",
              "      <th>Sleep Duration</th>\n",
              "      <th>Quality of Sleep</th>\n",
              "      <th>Physical Activity Level</th>\n",
              "      <th>Stress Level</th>\n",
              "      <th>BMI Category</th>\n",
              "      <th>Systolic BP</th>\n",
              "      <th>Diastolic BP</th>\n",
              "      <th>Heart Rate</th>\n",
              "      <th>Daily Steps</th>\n",
              "      <th>Sleep Disorder</th>\n",
              "    </tr>\n",
              "  </thead>\n",
              "  <tbody>\n",
              "    <tr>\n",
              "      <th>0</th>\n",
              "      <td>1</td>\n",
              "      <td>Male</td>\n",
              "      <td>27</td>\n",
              "      <td>Software Engineer</td>\n",
              "      <td>6.1</td>\n",
              "      <td>6</td>\n",
              "      <td>42</td>\n",
              "      <td>6</td>\n",
              "      <td>Overweight</td>\n",
              "      <td>126</td>\n",
              "      <td>83</td>\n",
              "      <td>77</td>\n",
              "      <td>4200</td>\n",
              "      <td>NaN</td>\n",
              "    </tr>\n",
              "    <tr>\n",
              "      <th>1</th>\n",
              "      <td>2</td>\n",
              "      <td>Male</td>\n",
              "      <td>28</td>\n",
              "      <td>Doctor</td>\n",
              "      <td>6.2</td>\n",
              "      <td>6</td>\n",
              "      <td>60</td>\n",
              "      <td>8</td>\n",
              "      <td>Normal</td>\n",
              "      <td>125</td>\n",
              "      <td>80</td>\n",
              "      <td>75</td>\n",
              "      <td>10000</td>\n",
              "      <td>NaN</td>\n",
              "    </tr>\n",
              "    <tr>\n",
              "      <th>2</th>\n",
              "      <td>3</td>\n",
              "      <td>Male</td>\n",
              "      <td>28</td>\n",
              "      <td>Doctor</td>\n",
              "      <td>6.2</td>\n",
              "      <td>6</td>\n",
              "      <td>60</td>\n",
              "      <td>8</td>\n",
              "      <td>Normal</td>\n",
              "      <td>125</td>\n",
              "      <td>80</td>\n",
              "      <td>75</td>\n",
              "      <td>10000</td>\n",
              "      <td>NaN</td>\n",
              "    </tr>\n",
              "    <tr>\n",
              "      <th>3</th>\n",
              "      <td>4</td>\n",
              "      <td>Male</td>\n",
              "      <td>28</td>\n",
              "      <td>Sales Representative</td>\n",
              "      <td>5.9</td>\n",
              "      <td>4</td>\n",
              "      <td>30</td>\n",
              "      <td>8</td>\n",
              "      <td>Obese</td>\n",
              "      <td>140</td>\n",
              "      <td>90</td>\n",
              "      <td>85</td>\n",
              "      <td>3000</td>\n",
              "      <td>Sleep Apnea</td>\n",
              "    </tr>\n",
              "    <tr>\n",
              "      <th>4</th>\n",
              "      <td>5</td>\n",
              "      <td>Male</td>\n",
              "      <td>28</td>\n",
              "      <td>Sales Representative</td>\n",
              "      <td>5.9</td>\n",
              "      <td>4</td>\n",
              "      <td>30</td>\n",
              "      <td>8</td>\n",
              "      <td>Obese</td>\n",
              "      <td>140</td>\n",
              "      <td>90</td>\n",
              "      <td>85</td>\n",
              "      <td>3000</td>\n",
              "      <td>Sleep Apnea</td>\n",
              "    </tr>\n",
              "  </tbody>\n",
              "</table>\n",
              "</div>\n",
              "    <div class=\"colab-df-buttons\">\n",
              "\n",
              "  <div class=\"colab-df-container\">\n",
              "    <button class=\"colab-df-convert\" onclick=\"convertToInteractive('df-8b820fa3-69f6-4d04-a614-5b6753bcd2ee')\"\n",
              "            title=\"Convert this dataframe to an interactive table.\"\n",
              "            style=\"display:none;\">\n",
              "\n",
              "  <svg xmlns=\"http://www.w3.org/2000/svg\" height=\"24px\" viewBox=\"0 -960 960 960\">\n",
              "    <path d=\"M120-120v-720h720v720H120Zm60-500h600v-160H180v160Zm220 220h160v-160H400v160Zm0 220h160v-160H400v160ZM180-400h160v-160H180v160Zm440 0h160v-160H620v160ZM180-180h160v-160H180v160Zm440 0h160v-160H620v160Z\"/>\n",
              "  </svg>\n",
              "    </button>\n",
              "\n",
              "  <style>\n",
              "    .colab-df-container {\n",
              "      display:flex;\n",
              "      gap: 12px;\n",
              "    }\n",
              "\n",
              "    .colab-df-convert {\n",
              "      background-color: #E8F0FE;\n",
              "      border: none;\n",
              "      border-radius: 50%;\n",
              "      cursor: pointer;\n",
              "      display: none;\n",
              "      fill: #1967D2;\n",
              "      height: 32px;\n",
              "      padding: 0 0 0 0;\n",
              "      width: 32px;\n",
              "    }\n",
              "\n",
              "    .colab-df-convert:hover {\n",
              "      background-color: #E2EBFA;\n",
              "      box-shadow: 0px 1px 2px rgba(60, 64, 67, 0.3), 0px 1px 3px 1px rgba(60, 64, 67, 0.15);\n",
              "      fill: #174EA6;\n",
              "    }\n",
              "\n",
              "    .colab-df-buttons div {\n",
              "      margin-bottom: 4px;\n",
              "    }\n",
              "\n",
              "    [theme=dark] .colab-df-convert {\n",
              "      background-color: #3B4455;\n",
              "      fill: #D2E3FC;\n",
              "    }\n",
              "\n",
              "    [theme=dark] .colab-df-convert:hover {\n",
              "      background-color: #434B5C;\n",
              "      box-shadow: 0px 1px 3px 1px rgba(0, 0, 0, 0.15);\n",
              "      filter: drop-shadow(0px 1px 2px rgba(0, 0, 0, 0.3));\n",
              "      fill: #FFFFFF;\n",
              "    }\n",
              "  </style>\n",
              "\n",
              "    <script>\n",
              "      const buttonEl =\n",
              "        document.querySelector('#df-8b820fa3-69f6-4d04-a614-5b6753bcd2ee button.colab-df-convert');\n",
              "      buttonEl.style.display =\n",
              "        google.colab.kernel.accessAllowed ? 'block' : 'none';\n",
              "\n",
              "      async function convertToInteractive(key) {\n",
              "        const element = document.querySelector('#df-8b820fa3-69f6-4d04-a614-5b6753bcd2ee');\n",
              "        const dataTable =\n",
              "          await google.colab.kernel.invokeFunction('convertToInteractive',\n",
              "                                                    [key], {});\n",
              "        if (!dataTable) return;\n",
              "\n",
              "        const docLinkHtml = 'Like what you see? Visit the ' +\n",
              "          '<a target=\"_blank\" href=https://colab.research.google.com/notebooks/data_table.ipynb>data table notebook</a>'\n",
              "          + ' to learn more about interactive tables.';\n",
              "        element.innerHTML = '';\n",
              "        dataTable['output_type'] = 'display_data';\n",
              "        await google.colab.output.renderOutput(dataTable, element);\n",
              "        const docLink = document.createElement('div');\n",
              "        docLink.innerHTML = docLinkHtml;\n",
              "        element.appendChild(docLink);\n",
              "      }\n",
              "    </script>\n",
              "  </div>\n",
              "\n",
              "\n",
              "    <div id=\"df-0a696d7a-922e-4b74-9a5a-15a2069634eb\">\n",
              "      <button class=\"colab-df-quickchart\" onclick=\"quickchart('df-0a696d7a-922e-4b74-9a5a-15a2069634eb')\"\n",
              "                title=\"Suggest charts\"\n",
              "                style=\"display:none;\">\n",
              "\n",
              "<svg xmlns=\"http://www.w3.org/2000/svg\" height=\"24px\"viewBox=\"0 0 24 24\"\n",
              "     width=\"24px\">\n",
              "    <g>\n",
              "        <path d=\"M19 3H5c-1.1 0-2 .9-2 2v14c0 1.1.9 2 2 2h14c1.1 0 2-.9 2-2V5c0-1.1-.9-2-2-2zM9 17H7v-7h2v7zm4 0h-2V7h2v10zm4 0h-2v-4h2v4z\"/>\n",
              "    </g>\n",
              "</svg>\n",
              "      </button>\n",
              "\n",
              "<style>\n",
              "  .colab-df-quickchart {\n",
              "      --bg-color: #E8F0FE;\n",
              "      --fill-color: #1967D2;\n",
              "      --hover-bg-color: #E2EBFA;\n",
              "      --hover-fill-color: #174EA6;\n",
              "      --disabled-fill-color: #AAA;\n",
              "      --disabled-bg-color: #DDD;\n",
              "  }\n",
              "\n",
              "  [theme=dark] .colab-df-quickchart {\n",
              "      --bg-color: #3B4455;\n",
              "      --fill-color: #D2E3FC;\n",
              "      --hover-bg-color: #434B5C;\n",
              "      --hover-fill-color: #FFFFFF;\n",
              "      --disabled-bg-color: #3B4455;\n",
              "      --disabled-fill-color: #666;\n",
              "  }\n",
              "\n",
              "  .colab-df-quickchart {\n",
              "    background-color: var(--bg-color);\n",
              "    border: none;\n",
              "    border-radius: 50%;\n",
              "    cursor: pointer;\n",
              "    display: none;\n",
              "    fill: var(--fill-color);\n",
              "    height: 32px;\n",
              "    padding: 0;\n",
              "    width: 32px;\n",
              "  }\n",
              "\n",
              "  .colab-df-quickchart:hover {\n",
              "    background-color: var(--hover-bg-color);\n",
              "    box-shadow: 0 1px 2px rgba(60, 64, 67, 0.3), 0 1px 3px 1px rgba(60, 64, 67, 0.15);\n",
              "    fill: var(--button-hover-fill-color);\n",
              "  }\n",
              "\n",
              "  .colab-df-quickchart-complete:disabled,\n",
              "  .colab-df-quickchart-complete:disabled:hover {\n",
              "    background-color: var(--disabled-bg-color);\n",
              "    fill: var(--disabled-fill-color);\n",
              "    box-shadow: none;\n",
              "  }\n",
              "\n",
              "  .colab-df-spinner {\n",
              "    border: 2px solid var(--fill-color);\n",
              "    border-color: transparent;\n",
              "    border-bottom-color: var(--fill-color);\n",
              "    animation:\n",
              "      spin 1s steps(1) infinite;\n",
              "  }\n",
              "\n",
              "  @keyframes spin {\n",
              "    0% {\n",
              "      border-color: transparent;\n",
              "      border-bottom-color: var(--fill-color);\n",
              "      border-left-color: var(--fill-color);\n",
              "    }\n",
              "    20% {\n",
              "      border-color: transparent;\n",
              "      border-left-color: var(--fill-color);\n",
              "      border-top-color: var(--fill-color);\n",
              "    }\n",
              "    30% {\n",
              "      border-color: transparent;\n",
              "      border-left-color: var(--fill-color);\n",
              "      border-top-color: var(--fill-color);\n",
              "      border-right-color: var(--fill-color);\n",
              "    }\n",
              "    40% {\n",
              "      border-color: transparent;\n",
              "      border-right-color: var(--fill-color);\n",
              "      border-top-color: var(--fill-color);\n",
              "    }\n",
              "    60% {\n",
              "      border-color: transparent;\n",
              "      border-right-color: var(--fill-color);\n",
              "    }\n",
              "    80% {\n",
              "      border-color: transparent;\n",
              "      border-right-color: var(--fill-color);\n",
              "      border-bottom-color: var(--fill-color);\n",
              "    }\n",
              "    90% {\n",
              "      border-color: transparent;\n",
              "      border-bottom-color: var(--fill-color);\n",
              "    }\n",
              "  }\n",
              "</style>\n",
              "\n",
              "      <script>\n",
              "        async function quickchart(key) {\n",
              "          const quickchartButtonEl =\n",
              "            document.querySelector('#' + key + ' button');\n",
              "          quickchartButtonEl.disabled = true;  // To prevent multiple clicks.\n",
              "          quickchartButtonEl.classList.add('colab-df-spinner');\n",
              "          try {\n",
              "            const charts = await google.colab.kernel.invokeFunction(\n",
              "                'suggestCharts', [key], {});\n",
              "          } catch (error) {\n",
              "            console.error('Error during call to suggestCharts:', error);\n",
              "          }\n",
              "          quickchartButtonEl.classList.remove('colab-df-spinner');\n",
              "          quickchartButtonEl.classList.add('colab-df-quickchart-complete');\n",
              "        }\n",
              "        (() => {\n",
              "          let quickchartButtonEl =\n",
              "            document.querySelector('#df-0a696d7a-922e-4b74-9a5a-15a2069634eb button');\n",
              "          quickchartButtonEl.style.display =\n",
              "            google.colab.kernel.accessAllowed ? 'block' : 'none';\n",
              "        })();\n",
              "      </script>\n",
              "    </div>\n",
              "    </div>\n",
              "  </div>\n"
            ],
            "application/vnd.google.colaboratory.intrinsic+json": {
              "type": "dataframe",
              "variable_name": "sleep_data",
              "summary": "{\n  \"name\": \"sleep_data\",\n  \"rows\": 374,\n  \"fields\": [\n    {\n      \"column\": \"Person ID\",\n      \"properties\": {\n        \"dtype\": \"number\",\n        \"std\": 108,\n        \"min\": 1,\n        \"max\": 374,\n        \"num_unique_values\": 374,\n        \"samples\": [\n          330,\n          34,\n          16\n        ],\n        \"semantic_type\": \"\",\n        \"description\": \"\"\n      }\n    },\n    {\n      \"column\": \"Gender\",\n      \"properties\": {\n        \"dtype\": \"category\",\n        \"num_unique_values\": 2,\n        \"samples\": [\n          \"Female\",\n          \"Male\"\n        ],\n        \"semantic_type\": \"\",\n        \"description\": \"\"\n      }\n    },\n    {\n      \"column\": \"Age\",\n      \"properties\": {\n        \"dtype\": \"number\",\n        \"std\": 8,\n        \"min\": 27,\n        \"max\": 59,\n        \"num_unique_values\": 31,\n        \"samples\": [\n          56,\n          42\n        ],\n        \"semantic_type\": \"\",\n        \"description\": \"\"\n      }\n    },\n    {\n      \"column\": \"Occupation\",\n      \"properties\": {\n        \"dtype\": \"category\",\n        \"num_unique_values\": 11,\n        \"samples\": [\n          \"Engineer\",\n          \"Software Engineer\"\n        ],\n        \"semantic_type\": \"\",\n        \"description\": \"\"\n      }\n    },\n    {\n      \"column\": \"Sleep Duration\",\n      \"properties\": {\n        \"dtype\": \"number\",\n        \"std\": 0.7956567308898188,\n        \"min\": 5.8,\n        \"max\": 8.5,\n        \"num_unique_values\": 27,\n        \"samples\": [\n          7.7,\n          5.8\n        ],\n        \"semantic_type\": \"\",\n        \"description\": \"\"\n      }\n    },\n    {\n      \"column\": \"Quality of Sleep\",\n      \"properties\": {\n        \"dtype\": \"number\",\n        \"std\": 1,\n        \"min\": 4,\n        \"max\": 9,\n        \"num_unique_values\": 6,\n        \"samples\": [\n          6,\n          4\n        ],\n        \"semantic_type\": \"\",\n        \"description\": \"\"\n      }\n    },\n    {\n      \"column\": \"Physical Activity Level\",\n      \"properties\": {\n        \"dtype\": \"number\",\n        \"std\": 20,\n        \"min\": 30,\n        \"max\": 90,\n        \"num_unique_values\": 16,\n        \"samples\": [\n          42,\n          60\n        ],\n        \"semantic_type\": \"\",\n        \"description\": \"\"\n      }\n    },\n    {\n      \"column\": \"Stress Level\",\n      \"properties\": {\n        \"dtype\": \"number\",\n        \"std\": 1,\n        \"min\": 3,\n        \"max\": 8,\n        \"num_unique_values\": 6,\n        \"samples\": [\n          6,\n          8\n        ],\n        \"semantic_type\": \"\",\n        \"description\": \"\"\n      }\n    },\n    {\n      \"column\": \"BMI Category\",\n      \"properties\": {\n        \"dtype\": \"category\",\n        \"num_unique_values\": 4,\n        \"samples\": [\n          \"Normal\",\n          \"Normal Weight\"\n        ],\n        \"semantic_type\": \"\",\n        \"description\": \"\"\n      }\n    },\n    {\n      \"column\": \"Systolic BP\",\n      \"properties\": {\n        \"dtype\": \"number\",\n        \"std\": 7,\n        \"min\": 115,\n        \"max\": 142,\n        \"num_unique_values\": 18,\n        \"samples\": [\n          126,\n          125\n        ],\n        \"semantic_type\": \"\",\n        \"description\": \"\"\n      }\n    },\n    {\n      \"column\": \"Diastolic BP\",\n      \"properties\": {\n        \"dtype\": \"number\",\n        \"std\": 6,\n        \"min\": 75,\n        \"max\": 95,\n        \"num_unique_values\": 17,\n        \"samples\": [\n          83,\n          80\n        ],\n        \"semantic_type\": \"\",\n        \"description\": \"\"\n      }\n    },\n    {\n      \"column\": \"Heart Rate\",\n      \"properties\": {\n        \"dtype\": \"number\",\n        \"std\": 4,\n        \"min\": 65,\n        \"max\": 86,\n        \"num_unique_values\": 19,\n        \"samples\": [\n          77,\n          80\n        ],\n        \"semantic_type\": \"\",\n        \"description\": \"\"\n      }\n    },\n    {\n      \"column\": \"Daily Steps\",\n      \"properties\": {\n        \"dtype\": \"number\",\n        \"std\": 1617,\n        \"min\": 3000,\n        \"max\": 10000,\n        \"num_unique_values\": 20,\n        \"samples\": [\n          4200,\n          6200\n        ],\n        \"semantic_type\": \"\",\n        \"description\": \"\"\n      }\n    },\n    {\n      \"column\": \"Sleep Disorder\",\n      \"properties\": {\n        \"dtype\": \"category\",\n        \"num_unique_values\": 2,\n        \"samples\": [\n          \"Insomnia\",\n          \"Sleep Apnea\"\n        ],\n        \"semantic_type\": \"\",\n        \"description\": \"\"\n      }\n    }\n  ]\n}"
            }
          },
          "metadata": {},
          "execution_count": 3
        }
      ]
    },
    {
      "cell_type": "markdown",
      "source": [
        "### 4. 显示每列的数据类型"
      ],
      "metadata": {
        "id": "EPd4Sz5pVx9U"
      }
    },
    {
      "cell_type": "code",
      "source": [
        "sleep_data.dtypes"
      ],
      "metadata": {
        "colab": {
          "base_uri": "https://localhost:8080/",
          "height": 523
        },
        "id": "dhsbzzZXVynl",
        "outputId": "356efa64-de88-46fb-9a8c-5e6bde492221"
      },
      "execution_count": 4,
      "outputs": [
        {
          "output_type": "execute_result",
          "data": {
            "text/plain": [
              "Person ID                    int64\n",
              "Gender                      object\n",
              "Age                          int64\n",
              "Occupation                  object\n",
              "Sleep Duration             float64\n",
              "Quality of Sleep             int64\n",
              "Physical Activity Level      int64\n",
              "Stress Level                 int64\n",
              "BMI Category                object\n",
              "Systolic BP                  int64\n",
              "Diastolic BP                 int64\n",
              "Heart Rate                   int64\n",
              "Daily Steps                  int64\n",
              "Sleep Disorder              object\n",
              "dtype: object"
            ],
            "text/html": [
              "<div>\n",
              "<style scoped>\n",
              "    .dataframe tbody tr th:only-of-type {\n",
              "        vertical-align: middle;\n",
              "    }\n",
              "\n",
              "    .dataframe tbody tr th {\n",
              "        vertical-align: top;\n",
              "    }\n",
              "\n",
              "    .dataframe thead th {\n",
              "        text-align: right;\n",
              "    }\n",
              "</style>\n",
              "<table border=\"1\" class=\"dataframe\">\n",
              "  <thead>\n",
              "    <tr style=\"text-align: right;\">\n",
              "      <th></th>\n",
              "      <th>0</th>\n",
              "    </tr>\n",
              "  </thead>\n",
              "  <tbody>\n",
              "    <tr>\n",
              "      <th>Person ID</th>\n",
              "      <td>int64</td>\n",
              "    </tr>\n",
              "    <tr>\n",
              "      <th>Gender</th>\n",
              "      <td>object</td>\n",
              "    </tr>\n",
              "    <tr>\n",
              "      <th>Age</th>\n",
              "      <td>int64</td>\n",
              "    </tr>\n",
              "    <tr>\n",
              "      <th>Occupation</th>\n",
              "      <td>object</td>\n",
              "    </tr>\n",
              "    <tr>\n",
              "      <th>Sleep Duration</th>\n",
              "      <td>float64</td>\n",
              "    </tr>\n",
              "    <tr>\n",
              "      <th>Quality of Sleep</th>\n",
              "      <td>int64</td>\n",
              "    </tr>\n",
              "    <tr>\n",
              "      <th>Physical Activity Level</th>\n",
              "      <td>int64</td>\n",
              "    </tr>\n",
              "    <tr>\n",
              "      <th>Stress Level</th>\n",
              "      <td>int64</td>\n",
              "    </tr>\n",
              "    <tr>\n",
              "      <th>BMI Category</th>\n",
              "      <td>object</td>\n",
              "    </tr>\n",
              "    <tr>\n",
              "      <th>Systolic BP</th>\n",
              "      <td>int64</td>\n",
              "    </tr>\n",
              "    <tr>\n",
              "      <th>Diastolic BP</th>\n",
              "      <td>int64</td>\n",
              "    </tr>\n",
              "    <tr>\n",
              "      <th>Heart Rate</th>\n",
              "      <td>int64</td>\n",
              "    </tr>\n",
              "    <tr>\n",
              "      <th>Daily Steps</th>\n",
              "      <td>int64</td>\n",
              "    </tr>\n",
              "    <tr>\n",
              "      <th>Sleep Disorder</th>\n",
              "      <td>object</td>\n",
              "    </tr>\n",
              "  </tbody>\n",
              "</table>\n",
              "</div><br><label><b>dtype:</b> object</label>"
            ]
          },
          "metadata": {},
          "execution_count": 4
        }
      ]
    },
    {
      "cell_type": "markdown",
      "source": [
        "## 第二步：模型准备，数据清洗"
      ],
      "metadata": {
        "id": "AT5H77yRaviq"
      }
    },
    {
      "cell_type": "markdown",
      "source": [
        "### 5. 统计`sleep_data`中有空值`NaN`或`None`的列，打印占比"
      ],
      "metadata": {
        "id": "edM0i7Bja5LW"
      }
    },
    {
      "cell_type": "code",
      "source": [
        "# 计算空值占比（百分比）\n",
        "null_percentage = (sleep_data.isna().mean() * 100).round(2)\n",
        "\n",
        "# 只显示有空值的列\n",
        "null_percentage = null_percentage[null_percentage > 0]\n",
        "\n",
        "print(\"各列空值占比（%）：\")\n",
        "print(null_percentage)"
      ],
      "metadata": {
        "colab": {
          "base_uri": "https://localhost:8080/"
        },
        "id": "4WyAA7GGbGet",
        "outputId": "0b2adb69-77f8-4bb0-8dd2-1103088d23a5"
      },
      "execution_count": 5,
      "outputs": [
        {
          "output_type": "stream",
          "name": "stdout",
          "text": [
            "各列空值占比（%）：\n",
            "Sleep Disorder    58.56\n",
            "dtype: float64\n"
          ]
        }
      ]
    },
    {
      "cell_type": "markdown",
      "source": [
        "**空值占比解析：**\n",
        "- Sleep Disorder 列包含空值（占比 58.56%）\n",
        "其中`None`含义表示没有睡眠障碍。\n",
        "- 其他列均无缺失值。"
      ],
      "metadata": {
        "id": "eYUX5_Wfb7HM"
      }
    },
    {
      "cell_type": "markdown",
      "source": [
        "### 6. 定义目标变量和预测变量\n",
        "- 目标变量：睡眠质量`Quality of Sleep`\n",
        "- 预测变量：\n",
        "\n",
        "| 变量名                 | 数据类型   | 取值范围/类别说明                     | 处理建议                          |\n",
        "|------------------------|------------|---------------------------------------|-----------------------------------|\n",
        "| Gender                 | object     | 男/女                                 | 独热编码                          |\n",
        "| Age                    | int64      | 正整数（如18-80岁）                   | 直接使用，可标准化                |\n",
        "| Occupation             | object     | 职业名称（如\"医生\"、\"律师\"等）        | 独热编码（类别多时可嵌入）        |\n",
        "| Sleep Duration         | float64    | 小时数                                | 直接使用，可标准化                |\n",
        "| Physical Activity Level| int64      | 30-90                                 | 按有序数值处理                    |\n",
        "| Stress Level           | int64      | 可能为3-8评分（1=低压力，10=高压力）  | 按有序数值处理                    |\n",
        "| BMI Category           | object     | \"Normal\", \"Normal Weight\", \"Obese\", \"Overweight\" | 序数编码（按健康程度排序） |\n",
        "| Systolic BP            | int64      | 收缩压（如90-180 mmHg）               | 直接使用，注意异常值              |\n",
        "| Diastolic BP           | int64      | 舒张压（如60-120 mmHg）               | 直接使用，注意异常值              |\n",
        "| Heart Rate             | int64      | 静息心率（如65-86 bpm）               | 直接使用                          |\n",
        "| Daily Steps            | int64      | 每日步数（如3000-10000步）            | 直接使用，可对数变换              |\n",
        "| Sleep Disorder         | object     | \"None\", \"Insomnia\", \"Sleep Apnea\"等   | 独热编码                          |"
      ],
      "metadata": {
        "id": "lUZx4xlunymI"
      }
    },
    {
      "cell_type": "markdown",
      "source": [
        "### 7. 对`BMI Category`列进行序数编码"
      ],
      "metadata": {
        "id": "LmNUkZzze-DH"
      }
    },
    {
      "cell_type": "code",
      "source": [
        "from sklearn.preprocessing import OrdinalEncoder\n",
        "# (1) BMI Category（有序类别，使用 OrdinalEncoder）\n",
        "bmi_order = [\"Normal\", \"Normal Weight\", \"Overweight\", \"Obese\"]\n",
        "encoder = OrdinalEncoder(categories=[bmi_order])\n",
        "sleep_data[\"BMI Category\"] = encoder.fit_transform(sleep_data[[\"BMI Category\"]])"
      ],
      "metadata": {
        "id": "dFNjRRenfN24"
      },
      "execution_count": 6,
      "outputs": []
    },
    {
      "cell_type": "markdown",
      "source": [
        "### 8. 对`Gender`, `Occupation`, `Sleep Disorder`列进行独热编码"
      ],
      "metadata": {
        "id": "YfbKtFRMfZTf"
      }
    },
    {
      "cell_type": "code",
      "source": [
        "from sklearn.preprocessing import OneHotEncoder\n",
        "categorical_cols = [\"Gender\", \"Occupation\", \"Sleep Disorder\"]\n",
        "onehot = OneHotEncoder(drop='first', sparse_output=False)  # drop_first 避免多重共线性\n",
        "encoded_cols = onehot.fit_transform(sleep_data[categorical_cols])\n",
        "encoded_df = pd.DataFrame(encoded_cols, columns=onehot.get_feature_names_out(categorical_cols))"
      ],
      "metadata": {
        "id": "Z7XRFFmMfeW2"
      },
      "execution_count": 7,
      "outputs": []
    },
    {
      "cell_type": "markdown",
      "source": [
        "### 10. 合并数值列和编码后的分类列"
      ],
      "metadata": {
        "id": "KjjZ6Tm-gEP-"
      }
    },
    {
      "cell_type": "code",
      "source": [
        "final_data = pd.concat([\n",
        "    sleep_data.drop(categorical_cols, axis=1),\n",
        "    encoded_df\n",
        "], axis=1)"
      ],
      "metadata": {
        "id": "9PJmT7aZgEq6"
      },
      "execution_count": 8,
      "outputs": []
    },
    {
      "cell_type": "markdown",
      "source": [
        "### 11. 将`final_data`目标变量和预测变量分别赋值给`y`和`X`"
      ],
      "metadata": {
        "id": "5QLtkbvZvZb6"
      }
    },
    {
      "cell_type": "code",
      "source": [
        "# 定义目标变量和预测变量\n",
        "X = final_data.drop([\"Quality of Sleep\", \"Person ID\"], axis=1)  # 特征\n",
        "y = final_data[\"Quality of Sleep\"]         # 目标变量"
      ],
      "metadata": {
        "id": "i21BDwPZn1SB"
      },
      "execution_count": 9,
      "outputs": []
    },
    {
      "cell_type": "markdown",
      "source": [
        "### 12. 划分训练/测试集，并按照`80%`训练集，`20%`测试集分割"
      ],
      "metadata": {
        "id": "1FaKmPwtr8UM"
      }
    },
    {
      "cell_type": "code",
      "source": [
        "from sklearn.model_selection import train_test_split\n",
        "# 划分训练/测试集\n",
        "X_train, X_test, y_train, y_test = train_test_split(X, y, test_size=0.2, random_state=42)"
      ],
      "metadata": {
        "id": "14FnWYJKsQw8"
      },
      "execution_count": 10,
      "outputs": []
    },
    {
      "cell_type": "markdown",
      "source": [
        "## 第三步：建立模型"
      ],
      "metadata": {
        "id": "kvmhJh4c3FRq"
      }
    },
    {
      "cell_type": "markdown",
      "source": [
        "### 13. 配置超参数"
      ],
      "metadata": {
        "id": "P8TfketWz0PI"
      }
    },
    {
      "cell_type": "code",
      "source": [
        "from sklearn.ensemble import RandomForestRegressor\n",
        "rf = RandomForestRegressor(\n",
        "    n_estimators=50,      # 树的数量（小数据集无需过多树）\n",
        "    max_depth=5,         # 限制树深度，防止过拟合\n",
        "    min_samples_split=5,  # 节点分裂所需最小样本数\n",
        "    min_samples_leaf=2,   # 叶节点最小样本数\n",
        "    max_features='sqrt',  # 每棵树考虑的特征数（sqrt是常用值）\n",
        "    random_state=42,      # 固定随机种子\n",
        "    n_jobs=-1            # 使用所有CPU核心\n",
        ")"
      ],
      "metadata": {
        "id": "aAyR7LKCz7On"
      },
      "execution_count": 11,
      "outputs": []
    },
    {
      "cell_type": "markdown",
      "source": [
        "### 14. 训练模型"
      ],
      "metadata": {
        "id": "HED5cdel0q0h"
      }
    },
    {
      "cell_type": "code",
      "source": [
        "rf.fit(X_train, y_train)"
      ],
      "metadata": {
        "colab": {
          "base_uri": "https://localhost:8080/",
          "height": 115
        },
        "id": "5QaLxszJ0z-y",
        "outputId": "1cf1c898-68c2-4517-e4d2-7d922eeac498"
      },
      "execution_count": 12,
      "outputs": [
        {
          "output_type": "execute_result",
          "data": {
            "text/plain": [
              "RandomForestRegressor(max_depth=5, max_features='sqrt', min_samples_leaf=2,\n",
              "                      min_samples_split=5, n_estimators=50, n_jobs=-1,\n",
              "                      random_state=42)"
            ],
            "text/html": [
              "<style>#sk-container-id-1 {\n",
              "  /* Definition of color scheme common for light and dark mode */\n",
              "  --sklearn-color-text: #000;\n",
              "  --sklearn-color-text-muted: #666;\n",
              "  --sklearn-color-line: gray;\n",
              "  /* Definition of color scheme for unfitted estimators */\n",
              "  --sklearn-color-unfitted-level-0: #fff5e6;\n",
              "  --sklearn-color-unfitted-level-1: #f6e4d2;\n",
              "  --sklearn-color-unfitted-level-2: #ffe0b3;\n",
              "  --sklearn-color-unfitted-level-3: chocolate;\n",
              "  /* Definition of color scheme for fitted estimators */\n",
              "  --sklearn-color-fitted-level-0: #f0f8ff;\n",
              "  --sklearn-color-fitted-level-1: #d4ebff;\n",
              "  --sklearn-color-fitted-level-2: #b3dbfd;\n",
              "  --sklearn-color-fitted-level-3: cornflowerblue;\n",
              "\n",
              "  /* Specific color for light theme */\n",
              "  --sklearn-color-text-on-default-background: var(--sg-text-color, var(--theme-code-foreground, var(--jp-content-font-color1, black)));\n",
              "  --sklearn-color-background: var(--sg-background-color, var(--theme-background, var(--jp-layout-color0, white)));\n",
              "  --sklearn-color-border-box: var(--sg-text-color, var(--theme-code-foreground, var(--jp-content-font-color1, black)));\n",
              "  --sklearn-color-icon: #696969;\n",
              "\n",
              "  @media (prefers-color-scheme: dark) {\n",
              "    /* Redefinition of color scheme for dark theme */\n",
              "    --sklearn-color-text-on-default-background: var(--sg-text-color, var(--theme-code-foreground, var(--jp-content-font-color1, white)));\n",
              "    --sklearn-color-background: var(--sg-background-color, var(--theme-background, var(--jp-layout-color0, #111)));\n",
              "    --sklearn-color-border-box: var(--sg-text-color, var(--theme-code-foreground, var(--jp-content-font-color1, white)));\n",
              "    --sklearn-color-icon: #878787;\n",
              "  }\n",
              "}\n",
              "\n",
              "#sk-container-id-1 {\n",
              "  color: var(--sklearn-color-text);\n",
              "}\n",
              "\n",
              "#sk-container-id-1 pre {\n",
              "  padding: 0;\n",
              "}\n",
              "\n",
              "#sk-container-id-1 input.sk-hidden--visually {\n",
              "  border: 0;\n",
              "  clip: rect(1px 1px 1px 1px);\n",
              "  clip: rect(1px, 1px, 1px, 1px);\n",
              "  height: 1px;\n",
              "  margin: -1px;\n",
              "  overflow: hidden;\n",
              "  padding: 0;\n",
              "  position: absolute;\n",
              "  width: 1px;\n",
              "}\n",
              "\n",
              "#sk-container-id-1 div.sk-dashed-wrapped {\n",
              "  border: 1px dashed var(--sklearn-color-line);\n",
              "  margin: 0 0.4em 0.5em 0.4em;\n",
              "  box-sizing: border-box;\n",
              "  padding-bottom: 0.4em;\n",
              "  background-color: var(--sklearn-color-background);\n",
              "}\n",
              "\n",
              "#sk-container-id-1 div.sk-container {\n",
              "  /* jupyter's `normalize.less` sets `[hidden] { display: none; }`\n",
              "     but bootstrap.min.css set `[hidden] { display: none !important; }`\n",
              "     so we also need the `!important` here to be able to override the\n",
              "     default hidden behavior on the sphinx rendered scikit-learn.org.\n",
              "     See: https://github.com/scikit-learn/scikit-learn/issues/21755 */\n",
              "  display: inline-block !important;\n",
              "  position: relative;\n",
              "}\n",
              "\n",
              "#sk-container-id-1 div.sk-text-repr-fallback {\n",
              "  display: none;\n",
              "}\n",
              "\n",
              "div.sk-parallel-item,\n",
              "div.sk-serial,\n",
              "div.sk-item {\n",
              "  /* draw centered vertical line to link estimators */\n",
              "  background-image: linear-gradient(var(--sklearn-color-text-on-default-background), var(--sklearn-color-text-on-default-background));\n",
              "  background-size: 2px 100%;\n",
              "  background-repeat: no-repeat;\n",
              "  background-position: center center;\n",
              "}\n",
              "\n",
              "/* Parallel-specific style estimator block */\n",
              "\n",
              "#sk-container-id-1 div.sk-parallel-item::after {\n",
              "  content: \"\";\n",
              "  width: 100%;\n",
              "  border-bottom: 2px solid var(--sklearn-color-text-on-default-background);\n",
              "  flex-grow: 1;\n",
              "}\n",
              "\n",
              "#sk-container-id-1 div.sk-parallel {\n",
              "  display: flex;\n",
              "  align-items: stretch;\n",
              "  justify-content: center;\n",
              "  background-color: var(--sklearn-color-background);\n",
              "  position: relative;\n",
              "}\n",
              "\n",
              "#sk-container-id-1 div.sk-parallel-item {\n",
              "  display: flex;\n",
              "  flex-direction: column;\n",
              "}\n",
              "\n",
              "#sk-container-id-1 div.sk-parallel-item:first-child::after {\n",
              "  align-self: flex-end;\n",
              "  width: 50%;\n",
              "}\n",
              "\n",
              "#sk-container-id-1 div.sk-parallel-item:last-child::after {\n",
              "  align-self: flex-start;\n",
              "  width: 50%;\n",
              "}\n",
              "\n",
              "#sk-container-id-1 div.sk-parallel-item:only-child::after {\n",
              "  width: 0;\n",
              "}\n",
              "\n",
              "/* Serial-specific style estimator block */\n",
              "\n",
              "#sk-container-id-1 div.sk-serial {\n",
              "  display: flex;\n",
              "  flex-direction: column;\n",
              "  align-items: center;\n",
              "  background-color: var(--sklearn-color-background);\n",
              "  padding-right: 1em;\n",
              "  padding-left: 1em;\n",
              "}\n",
              "\n",
              "\n",
              "/* Toggleable style: style used for estimator/Pipeline/ColumnTransformer box that is\n",
              "clickable and can be expanded/collapsed.\n",
              "- Pipeline and ColumnTransformer use this feature and define the default style\n",
              "- Estimators will overwrite some part of the style using the `sk-estimator` class\n",
              "*/\n",
              "\n",
              "/* Pipeline and ColumnTransformer style (default) */\n",
              "\n",
              "#sk-container-id-1 div.sk-toggleable {\n",
              "  /* Default theme specific background. It is overwritten whether we have a\n",
              "  specific estimator or a Pipeline/ColumnTransformer */\n",
              "  background-color: var(--sklearn-color-background);\n",
              "}\n",
              "\n",
              "/* Toggleable label */\n",
              "#sk-container-id-1 label.sk-toggleable__label {\n",
              "  cursor: pointer;\n",
              "  display: flex;\n",
              "  width: 100%;\n",
              "  margin-bottom: 0;\n",
              "  padding: 0.5em;\n",
              "  box-sizing: border-box;\n",
              "  text-align: center;\n",
              "  align-items: start;\n",
              "  justify-content: space-between;\n",
              "  gap: 0.5em;\n",
              "}\n",
              "\n",
              "#sk-container-id-1 label.sk-toggleable__label .caption {\n",
              "  font-size: 0.6rem;\n",
              "  font-weight: lighter;\n",
              "  color: var(--sklearn-color-text-muted);\n",
              "}\n",
              "\n",
              "#sk-container-id-1 label.sk-toggleable__label-arrow:before {\n",
              "  /* Arrow on the left of the label */\n",
              "  content: \"▸\";\n",
              "  float: left;\n",
              "  margin-right: 0.25em;\n",
              "  color: var(--sklearn-color-icon);\n",
              "}\n",
              "\n",
              "#sk-container-id-1 label.sk-toggleable__label-arrow:hover:before {\n",
              "  color: var(--sklearn-color-text);\n",
              "}\n",
              "\n",
              "/* Toggleable content - dropdown */\n",
              "\n",
              "#sk-container-id-1 div.sk-toggleable__content {\n",
              "  max-height: 0;\n",
              "  max-width: 0;\n",
              "  overflow: hidden;\n",
              "  text-align: left;\n",
              "  /* unfitted */\n",
              "  background-color: var(--sklearn-color-unfitted-level-0);\n",
              "}\n",
              "\n",
              "#sk-container-id-1 div.sk-toggleable__content.fitted {\n",
              "  /* fitted */\n",
              "  background-color: var(--sklearn-color-fitted-level-0);\n",
              "}\n",
              "\n",
              "#sk-container-id-1 div.sk-toggleable__content pre {\n",
              "  margin: 0.2em;\n",
              "  border-radius: 0.25em;\n",
              "  color: var(--sklearn-color-text);\n",
              "  /* unfitted */\n",
              "  background-color: var(--sklearn-color-unfitted-level-0);\n",
              "}\n",
              "\n",
              "#sk-container-id-1 div.sk-toggleable__content.fitted pre {\n",
              "  /* unfitted */\n",
              "  background-color: var(--sklearn-color-fitted-level-0);\n",
              "}\n",
              "\n",
              "#sk-container-id-1 input.sk-toggleable__control:checked~div.sk-toggleable__content {\n",
              "  /* Expand drop-down */\n",
              "  max-height: 200px;\n",
              "  max-width: 100%;\n",
              "  overflow: auto;\n",
              "}\n",
              "\n",
              "#sk-container-id-1 input.sk-toggleable__control:checked~label.sk-toggleable__label-arrow:before {\n",
              "  content: \"▾\";\n",
              "}\n",
              "\n",
              "/* Pipeline/ColumnTransformer-specific style */\n",
              "\n",
              "#sk-container-id-1 div.sk-label input.sk-toggleable__control:checked~label.sk-toggleable__label {\n",
              "  color: var(--sklearn-color-text);\n",
              "  background-color: var(--sklearn-color-unfitted-level-2);\n",
              "}\n",
              "\n",
              "#sk-container-id-1 div.sk-label.fitted input.sk-toggleable__control:checked~label.sk-toggleable__label {\n",
              "  background-color: var(--sklearn-color-fitted-level-2);\n",
              "}\n",
              "\n",
              "/* Estimator-specific style */\n",
              "\n",
              "/* Colorize estimator box */\n",
              "#sk-container-id-1 div.sk-estimator input.sk-toggleable__control:checked~label.sk-toggleable__label {\n",
              "  /* unfitted */\n",
              "  background-color: var(--sklearn-color-unfitted-level-2);\n",
              "}\n",
              "\n",
              "#sk-container-id-1 div.sk-estimator.fitted input.sk-toggleable__control:checked~label.sk-toggleable__label {\n",
              "  /* fitted */\n",
              "  background-color: var(--sklearn-color-fitted-level-2);\n",
              "}\n",
              "\n",
              "#sk-container-id-1 div.sk-label label.sk-toggleable__label,\n",
              "#sk-container-id-1 div.sk-label label {\n",
              "  /* The background is the default theme color */\n",
              "  color: var(--sklearn-color-text-on-default-background);\n",
              "}\n",
              "\n",
              "/* On hover, darken the color of the background */\n",
              "#sk-container-id-1 div.sk-label:hover label.sk-toggleable__label {\n",
              "  color: var(--sklearn-color-text);\n",
              "  background-color: var(--sklearn-color-unfitted-level-2);\n",
              "}\n",
              "\n",
              "/* Label box, darken color on hover, fitted */\n",
              "#sk-container-id-1 div.sk-label.fitted:hover label.sk-toggleable__label.fitted {\n",
              "  color: var(--sklearn-color-text);\n",
              "  background-color: var(--sklearn-color-fitted-level-2);\n",
              "}\n",
              "\n",
              "/* Estimator label */\n",
              "\n",
              "#sk-container-id-1 div.sk-label label {\n",
              "  font-family: monospace;\n",
              "  font-weight: bold;\n",
              "  display: inline-block;\n",
              "  line-height: 1.2em;\n",
              "}\n",
              "\n",
              "#sk-container-id-1 div.sk-label-container {\n",
              "  text-align: center;\n",
              "}\n",
              "\n",
              "/* Estimator-specific */\n",
              "#sk-container-id-1 div.sk-estimator {\n",
              "  font-family: monospace;\n",
              "  border: 1px dotted var(--sklearn-color-border-box);\n",
              "  border-radius: 0.25em;\n",
              "  box-sizing: border-box;\n",
              "  margin-bottom: 0.5em;\n",
              "  /* unfitted */\n",
              "  background-color: var(--sklearn-color-unfitted-level-0);\n",
              "}\n",
              "\n",
              "#sk-container-id-1 div.sk-estimator.fitted {\n",
              "  /* fitted */\n",
              "  background-color: var(--sklearn-color-fitted-level-0);\n",
              "}\n",
              "\n",
              "/* on hover */\n",
              "#sk-container-id-1 div.sk-estimator:hover {\n",
              "  /* unfitted */\n",
              "  background-color: var(--sklearn-color-unfitted-level-2);\n",
              "}\n",
              "\n",
              "#sk-container-id-1 div.sk-estimator.fitted:hover {\n",
              "  /* fitted */\n",
              "  background-color: var(--sklearn-color-fitted-level-2);\n",
              "}\n",
              "\n",
              "/* Specification for estimator info (e.g. \"i\" and \"?\") */\n",
              "\n",
              "/* Common style for \"i\" and \"?\" */\n",
              "\n",
              ".sk-estimator-doc-link,\n",
              "a:link.sk-estimator-doc-link,\n",
              "a:visited.sk-estimator-doc-link {\n",
              "  float: right;\n",
              "  font-size: smaller;\n",
              "  line-height: 1em;\n",
              "  font-family: monospace;\n",
              "  background-color: var(--sklearn-color-background);\n",
              "  border-radius: 1em;\n",
              "  height: 1em;\n",
              "  width: 1em;\n",
              "  text-decoration: none !important;\n",
              "  margin-left: 0.5em;\n",
              "  text-align: center;\n",
              "  /* unfitted */\n",
              "  border: var(--sklearn-color-unfitted-level-1) 1pt solid;\n",
              "  color: var(--sklearn-color-unfitted-level-1);\n",
              "}\n",
              "\n",
              ".sk-estimator-doc-link.fitted,\n",
              "a:link.sk-estimator-doc-link.fitted,\n",
              "a:visited.sk-estimator-doc-link.fitted {\n",
              "  /* fitted */\n",
              "  border: var(--sklearn-color-fitted-level-1) 1pt solid;\n",
              "  color: var(--sklearn-color-fitted-level-1);\n",
              "}\n",
              "\n",
              "/* On hover */\n",
              "div.sk-estimator:hover .sk-estimator-doc-link:hover,\n",
              ".sk-estimator-doc-link:hover,\n",
              "div.sk-label-container:hover .sk-estimator-doc-link:hover,\n",
              ".sk-estimator-doc-link:hover {\n",
              "  /* unfitted */\n",
              "  background-color: var(--sklearn-color-unfitted-level-3);\n",
              "  color: var(--sklearn-color-background);\n",
              "  text-decoration: none;\n",
              "}\n",
              "\n",
              "div.sk-estimator.fitted:hover .sk-estimator-doc-link.fitted:hover,\n",
              ".sk-estimator-doc-link.fitted:hover,\n",
              "div.sk-label-container:hover .sk-estimator-doc-link.fitted:hover,\n",
              ".sk-estimator-doc-link.fitted:hover {\n",
              "  /* fitted */\n",
              "  background-color: var(--sklearn-color-fitted-level-3);\n",
              "  color: var(--sklearn-color-background);\n",
              "  text-decoration: none;\n",
              "}\n",
              "\n",
              "/* Span, style for the box shown on hovering the info icon */\n",
              ".sk-estimator-doc-link span {\n",
              "  display: none;\n",
              "  z-index: 9999;\n",
              "  position: relative;\n",
              "  font-weight: normal;\n",
              "  right: .2ex;\n",
              "  padding: .5ex;\n",
              "  margin: .5ex;\n",
              "  width: min-content;\n",
              "  min-width: 20ex;\n",
              "  max-width: 50ex;\n",
              "  color: var(--sklearn-color-text);\n",
              "  box-shadow: 2pt 2pt 4pt #999;\n",
              "  /* unfitted */\n",
              "  background: var(--sklearn-color-unfitted-level-0);\n",
              "  border: .5pt solid var(--sklearn-color-unfitted-level-3);\n",
              "}\n",
              "\n",
              ".sk-estimator-doc-link.fitted span {\n",
              "  /* fitted */\n",
              "  background: var(--sklearn-color-fitted-level-0);\n",
              "  border: var(--sklearn-color-fitted-level-3);\n",
              "}\n",
              "\n",
              ".sk-estimator-doc-link:hover span {\n",
              "  display: block;\n",
              "}\n",
              "\n",
              "/* \"?\"-specific style due to the `<a>` HTML tag */\n",
              "\n",
              "#sk-container-id-1 a.estimator_doc_link {\n",
              "  float: right;\n",
              "  font-size: 1rem;\n",
              "  line-height: 1em;\n",
              "  font-family: monospace;\n",
              "  background-color: var(--sklearn-color-background);\n",
              "  border-radius: 1rem;\n",
              "  height: 1rem;\n",
              "  width: 1rem;\n",
              "  text-decoration: none;\n",
              "  /* unfitted */\n",
              "  color: var(--sklearn-color-unfitted-level-1);\n",
              "  border: var(--sklearn-color-unfitted-level-1) 1pt solid;\n",
              "}\n",
              "\n",
              "#sk-container-id-1 a.estimator_doc_link.fitted {\n",
              "  /* fitted */\n",
              "  border: var(--sklearn-color-fitted-level-1) 1pt solid;\n",
              "  color: var(--sklearn-color-fitted-level-1);\n",
              "}\n",
              "\n",
              "/* On hover */\n",
              "#sk-container-id-1 a.estimator_doc_link:hover {\n",
              "  /* unfitted */\n",
              "  background-color: var(--sklearn-color-unfitted-level-3);\n",
              "  color: var(--sklearn-color-background);\n",
              "  text-decoration: none;\n",
              "}\n",
              "\n",
              "#sk-container-id-1 a.estimator_doc_link.fitted:hover {\n",
              "  /* fitted */\n",
              "  background-color: var(--sklearn-color-fitted-level-3);\n",
              "}\n",
              "</style><div id=\"sk-container-id-1\" class=\"sk-top-container\"><div class=\"sk-text-repr-fallback\"><pre>RandomForestRegressor(max_depth=5, max_features=&#x27;sqrt&#x27;, min_samples_leaf=2,\n",
              "                      min_samples_split=5, n_estimators=50, n_jobs=-1,\n",
              "                      random_state=42)</pre><b>In a Jupyter environment, please rerun this cell to show the HTML representation or trust the notebook. <br />On GitHub, the HTML representation is unable to render, please try loading this page with nbviewer.org.</b></div><div class=\"sk-container\" hidden><div class=\"sk-item\"><div class=\"sk-estimator fitted sk-toggleable\"><input class=\"sk-toggleable__control sk-hidden--visually\" id=\"sk-estimator-id-1\" type=\"checkbox\" checked><label for=\"sk-estimator-id-1\" class=\"sk-toggleable__label fitted sk-toggleable__label-arrow\"><div><div>RandomForestRegressor</div></div><div><a class=\"sk-estimator-doc-link fitted\" rel=\"noreferrer\" target=\"_blank\" href=\"https://scikit-learn.org/1.6/modules/generated/sklearn.ensemble.RandomForestRegressor.html\">?<span>Documentation for RandomForestRegressor</span></a><span class=\"sk-estimator-doc-link fitted\">i<span>Fitted</span></span></div></label><div class=\"sk-toggleable__content fitted\"><pre>RandomForestRegressor(max_depth=5, max_features=&#x27;sqrt&#x27;, min_samples_leaf=2,\n",
              "                      min_samples_split=5, n_estimators=50, n_jobs=-1,\n",
              "                      random_state=42)</pre></div> </div></div></div></div>"
            ]
          },
          "metadata": {},
          "execution_count": 12
        }
      ]
    },
    {
      "cell_type": "markdown",
      "source": [
        "## 第四步：结果和评估"
      ],
      "metadata": {
        "id": "MbMhPMTz1olI"
      }
    },
    {
      "cell_type": "markdown",
      "source": [
        "### 15. 计算评估指标\n",
        "- 计算预测值与真实值的平均平方误差`MSE`\n",
        "- 计算模型解释了目标变量的方差`R²`"
      ],
      "metadata": {
        "id": "5LggRLue1_tw"
      }
    },
    {
      "cell_type": "code",
      "source": [
        "from sklearn.metrics import mean_squared_error, r2_score\n",
        "\n",
        "# 预测测试集\n",
        "y_pred = rf.predict(X_test)\n",
        "\n",
        "# 计算指标\n",
        "mse = mean_squared_error(y_test, y_pred)\n",
        "r2 = r2_score(y_test, y_pred)\n",
        "\n",
        "print(f\"MSE: {mse:.2f}\")\n",
        "print(f\"R²: {r2:.2f}\")"
      ],
      "metadata": {
        "colab": {
          "base_uri": "https://localhost:8080/"
        },
        "id": "OrSYsGW61UDd",
        "outputId": "1b9c0684-b1c2-4a9a-bc72-63e1f2ded4d7"
      },
      "execution_count": 13,
      "outputs": [
        {
          "output_type": "stream",
          "name": "stdout",
          "text": [
            "MSE: 0.04\n",
            "R²: 0.97\n"
          ]
        }
      ]
    },
    {
      "cell_type": "markdown",
      "source": [
        "**结果解读**：\n",
        "- 含义：Mean Squared Error (MSE) = 0.04\n",
        "  \n",
        "  预测值与真实值的平均平方误差为 0.04。\n",
        "\n",
        "  解读：\n",
        "\n",
        "  - MSE 越接近 0 越好，0.04 是一个非常小的值，说明模型的预测误差极低。\n",
        "\n",
        "  - 平均预测误差约为 sqrt(0.04) = 0.2 分（因为 MSE 是平方误差，取平方根后才是实际误差规模）。\n",
        "\n",
        "  - 结论：模型预测几乎完美，平均误差仅 0.2 分。\n",
        "- R² Score (R-squared) = 0.97\n",
        "  \n",
        "  含义：模型解释了目标变量 97% 的方差。\n",
        "\n",
        "  解读：\n",
        "\n",
        "  - R² 的范围是 [0, 1]，越接近 1 越好。\n",
        "\n",
        "  - 0.97 表示模型几乎完全捕捉了数据中的规律，仅有 3% 的波动无法解释。\n",
        "\n",
        "  - 结论：模型拟合效果极佳，远超一般可接受水平（通常 R² > 0.7 即认为优秀）。"
      ],
      "metadata": {
        "id": "yj3bZIay2WRm"
      }
    },
    {
      "cell_type": "markdown",
      "source": [
        "### 16. 可视化预测值与真实值之间的关系\n",
        "- 蓝色点为预测值，如果预测值在红线真实值附近分布，则模型效果良好。"
      ],
      "metadata": {
        "id": "j_4Oh06k4KKx"
      }
    },
    {
      "cell_type": "code",
      "source": [
        "import matplotlib.pyplot as plt\n",
        "\n",
        "plt.scatter(y_test, y_pred, alpha=0.5)\n",
        "plt.plot([y.min(), y.max()], [y.min(), y.max()], 'r--')  # 理想对角线\n",
        "plt.xlabel(\"True Values\")\n",
        "plt.ylabel(\"Predictions\")\n",
        "plt.title(\"Random Forest: True vs Predicted\")\n",
        "plt.show()"
      ],
      "metadata": {
        "colab": {
          "base_uri": "https://localhost:8080/",
          "height": 472
        },
        "id": "fdrc8K0b4A8e",
        "outputId": "13e3c846-ffee-4eda-f281-691203276352"
      },
      "execution_count": 14,
      "outputs": [
        {
          "output_type": "display_data",
          "data": {
            "text/plain": [
              "<Figure size 640x480 with 1 Axes>"
            ],
            "image/png": "[encoded data removed]"
          },
          "metadata": {}
        }
      ]
    },
    {
      "cell_type": "markdown",
      "source": [
        "### 17. 分析特征重要性\n",
        "- 重要性高的特征对模型预测影响更大。"
      ],
      "metadata": {
        "id": "QaLfFnwI54BK"
      }
    },
    {
      "cell_type": "code",
      "source": [
        "# 获取特征重要性并排序（降序）\n",
        "feature_importances = pd.Series(\n",
        "    rf.feature_importances_,\n",
        "    index=X_train.columns\n",
        ").sort_values(ascending=True)  # 改为升序，因为横向条形图从下往上显示\n",
        "\n",
        "# 取前10个最重要的特征\n",
        "top_10_features = feature_importances.tail(10)\n",
        "\n",
        "# 设置图形大小和风格\n",
        "plt.figure(figsize=(10, 6))\n",
        "plt.style.use('ggplot')  # 使用更美观的样式\n",
        "\n",
        "# 绘制横向条形图\n",
        "ax = top_10_features.plot(\n",
        "    kind='barh',          # 横向条形图\n",
        "    color='skyblue',      # 条形颜色\n",
        "    edgecolor='black',    # 边框颜色\n",
        "    alpha=0.8            # 透明度\n",
        ")\n",
        "\n",
        "# 在条形末端标注数值\n",
        "for i, v in enumerate(top_10_features):\n",
        "    ax.text(\n",
        "        v + 0.005,       # x坐标（数值稍偏移）\n",
        "        i,               # y坐标（对应条形位置）\n",
        "        f\"{v:.4f}\",      # 显示4位小数\n",
        "        color='black',\n",
        "        ha='left',       # 水平对齐（左对齐）\n",
        "        va='center'      # 垂直对齐（居中）\n",
        "    )\n",
        "\n",
        "# 添加标题和标签\n",
        "plt.title('Top 10 Important Features (Random Forest)', fontsize=14, pad=20)\n",
        "plt.xlabel('Feature Importance Score', fontsize=12)\n",
        "plt.ylabel('Features', fontsize=12)\n",
        "\n",
        "# 调整布局\n",
        "plt.tight_layout()\n",
        "plt.show()"
      ],
      "metadata": {
        "colab": {
          "base_uri": "https://localhost:8080/",
          "height": 607
        },
        "id": "VMtL9q1a45QG",
        "outputId": "f967c7ac-3b7a-490a-a819-729aca208a8e"
      },
      "execution_count": 15,
      "outputs": [
        {
          "output_type": "display_data",
          "data": {
            "text/plain": [
              "<Figure size 1000x600 with 1 Axes>"
            ],
            "image/png": "[encoded data removed]"
          },
          "metadata": {}
        }
      ]
    },
    {
      "cell_type": "markdown",
      "source": [
        "**结果解读**：\n",
        "\n",
        "**特征排名最高的当属睡眠时长，但是这属结果并不是原因，原因应从第二项开始寻找。**\n",
        "1. Stress Level（压力水平）\n",
        "重要性分数: 0.1943\n",
        "\n",
        "- 解读:\n",
        "\n",
        " - 最强的预测因子，表明压力水平对睡眠质量影响最大。\n",
        "\n",
        " - 压力越高，睡眠质量通常越差（入睡困难、易醒等）。\n",
        "\n",
        " - 建议：优先干预压力管理（如冥想、规律作息）。\n",
        "\n",
        "2. Age（年龄）\n",
        "重要性分数: 0.1477\n",
        "\n",
        "- 解读:\n",
        "\n",
        " - 年龄增长可能伴随睡眠结构变化（如深度睡眠减少）。\n",
        "\n",
        "3. Heart Rate（心率）\n",
        "重要性分数: 0.0881\n",
        "\n",
        "- 解读:\n",
        "\n",
        " - 静息心率高可能与压力、焦虑或健康问题相关，间接影响睡眠。\n",
        "\n",
        "4. Physical Activity Level（身体活动水平）\n",
        "重要性分数: 0.0600\n",
        "\n",
        "- 解读:\n",
        "\n",
        " - 适度运动可改善睡眠，但过度运动可能导致兴奋性增加。\n",
        "\n",
        "5. Daily Steps（每日步数）\n",
        "重要性分数: 0.0401\n",
        "\n",
        "- 解读:\n",
        "\n",
        " - 步数少可能反映久坐，与睡眠质量负相关。"
      ],
      "metadata": {
        "id": "pBOwTjba7LKl"
      }
    },
    {
      "cell_type": "markdown",
      "source": [
        "## 第五步：策略建议"
      ],
      "metadata": {
        "id": "dz6ySWQfFM7K"
      }
    },
    {
      "cell_type": "markdown",
      "source": [
        "1. Stress Level（压力水平） | 重要性最高 (0.1943)\n",
        "\n",
        "干预策略：\n",
        "- 压力管理训练\n",
        "\n",
        " - 推行每日10-15分钟正念冥想（如使用Headspace或Calm等APP）。\n",
        "\n",
        " - 开设职场压力管理课程，重点教学时间管理和任务优先级划分。\n",
        "\n",
        "- 环境优化\n",
        "\n",
        " - 建议睡前1小时启动\"数字排毒\"（禁用电子设备，蓝光会抑制褪黑素分泌）。\n",
        "\n",
        " - 卧室布置采用舒缓色调（如淡蓝/浅绿），温度保持在18-22℃。\n",
        "\n",
        "- 专业支持\n",
        "\n",
        " - 对高压人群（如医护人员、IT从业者）提供心理咨询服务。\n",
        "\n",
        "监测指标：\n",
        "每周压力自评量表（PSS-10）得分变化，结合可穿戴设备的心率变异性（HRV）数据。\n",
        "\n",
        "2. Age（年龄） | 重要性次高 (0.1477)\n",
        "\n",
        "分年龄段策略：\n",
        "- 年轻人（<30岁）\n",
        "\n",
        " - 纠正熬夜行为：设置\"睡眠打卡\"激励机制（如达标奖励）。\n",
        "\n",
        " - 控制咖啡因摄入（下午3点后禁咖啡因）。\n",
        "\n",
        "- 中年人（30-50岁）\n",
        "\n",
        " - 针对夜间易醒问题，建议补充镁剂（如甘氨酸镁）改善睡眠连续性。\n",
        "\n",
        " - 筛查睡眠呼吸暂停（尤其BMI>25人群）。\n",
        "\n",
        "- 老年人（>50岁）\n",
        "\n",
        " - 白天保证30分钟日光照射，调节昼夜节律。\n",
        "\n",
        " - 午睡限制在20分钟内，避免影响夜间睡眠。\n",
        "\n",
        "监测指标：\n",
        "睡眠分期数据（通过手环监测深睡眠比例），年龄分层统计改善效果。\n",
        "\n",
        "3. Heart Rate（心率） | 重要性第三 (0.0881)\n",
        "\n",
        "干预策略：\n",
        "- 心血管健康管理\n",
        "\n",
        " - 静息心率>80bpm者，推荐有氧运动（如快走、游泳）每周150分钟。\n",
        "\n",
        " - 呼吸训练：每天2次4-7-8呼吸法（吸气4秒→屏息7秒→呼气8秒）。\n",
        "\n",
        "- 夜间监测\n",
        "\n",
        " - 使用带心率监测的睡眠追踪器，预警异常夜间心动过速。\n",
        "\n",
        "监测指标：\n",
        "晨起静息心率趋势，睡眠期间平均心率同比下降值。\n",
        "\n",
        "4. Physical Activity Level（身体活动水平） | (0.0600)\n",
        "\n",
        "科学运动方案：\n",
        "- 运动类型\n",
        "\n",
        " - 优先选择瑜伽、太极等低冲击运动（改善睡眠效果优于高强度间歇训练）。\n",
        "\n",
        " - 阻抗训练安排在睡前6小时以上。\n",
        "\n",
        "- 运动时机\n",
        "\n",
        " - 最佳运动时段：下午4-7点（与核心体温自然下降节律同步）。\n",
        "\n",
        "- 个性化调整\n",
        "\n",
        " - 对久坐人群采用渐进式目标（从每日500步递增到8000步）。\n",
        "\n",
        "监测指标：\n",
        "运动后睡眠潜伏期（入睡时间）缩短比例，深睡眠时长增幅。\n",
        "\n",
        "5. Daily Steps（每日步数） | (0.0401)\n",
        "\n",
        "行为干预：\n",
        "- 职场整合\n",
        "\n",
        " - 推行\"站立会议\"，设置办公桌踏步机。\n",
        "\n",
        " - 每工作1小时触发5分钟步行提醒。\n",
        "\n",
        "- 社区支持\n",
        "\n",
        " - 组建步行小组（社交属性提升坚持率），使用微信步数排行榜激励。\n",
        "\n",
        "- 家庭环境\n",
        "\n",
        " - 建议晚餐后家庭集体散步15分钟（兼具消化助眠和家庭关系促进）。\n",
        "\n",
        "监测指标：\n",
        "步数与睡眠效率（实际睡眠时间/床上总时间）的相关性系数。"
      ],
      "metadata": {
        "id": "6J0AULWpD3Ru"
      }
    },
    {
      "cell_type": "markdown",
      "source": [
        "### 数据来源\n",
        "\n",
        "- ‌数据集名称‌：Health and Sleep relation\n",
        "- ‌数据来源‌：Kaggle(https://www.kaggle.com/datasets/orvile/health-and-sleep-relation-2024)"
      ],
      "metadata": {
        "id": "oAnRlHR7FeQt"
      }
    }
  ]
}